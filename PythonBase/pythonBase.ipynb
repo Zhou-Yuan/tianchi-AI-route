{
 "cells": [
  {
   "cell_type": "code",
   "execution_count": 2,
   "id": "5a8a87b6",
   "metadata": {},
   "outputs": [
    {
     "data": {
      "text/plain": [
       "596"
      ]
     },
     "execution_count": 2,
     "metadata": {},
     "output_type": "execute_result"
    }
   ],
   "source": [
    "def add_ab(a,b):\n",
    "    return a+b\n",
    "\n",
    "c =  add_ab(52, 544)\n",
    "c"
   ]
  },
  {
   "cell_type": "code",
   "execution_count": 14,
   "id": "e52f2c36",
   "metadata": {},
   "outputs": [
    {
     "name": "stdout",
     "output_type": "stream",
     "text": [
      "Overwriting zhou.py\n"
     ]
    }
   ],
   "source": [
    "%%writefile zhou.py\n",
    "\n",
    "zhou_v = 100\n",
    "\n",
    "def zhou_yuan (a, b):\n",
    "    return a + b\n",
    "\n",
    "print (1000)"
   ]
  },
  {
   "cell_type": "code",
   "execution_count": 15,
   "id": "6964a91b",
   "metadata": {},
   "outputs": [
    {
     "name": "stdout",
     "output_type": "stream",
     "text": [
      "1000\n"
     ]
    }
   ],
   "source": [
    "%run zhou.py"
   ]
  },
  {
   "cell_type": "code",
   "execution_count": 18,
   "id": "50b25bef",
   "metadata": {},
   "outputs": [],
   "source": [
    "import zhou"
   ]
  },
  {
   "cell_type": "code",
   "execution_count": 19,
   "id": "c9706e7d",
   "metadata": {},
   "outputs": [
    {
     "data": {
      "text/plain": [
       "100"
      ]
     },
     "execution_count": 19,
     "metadata": {},
     "output_type": "execute_result"
    }
   ],
   "source": [
    "zhou.zhou_v"
   ]
  },
  {
   "cell_type": "code",
   "execution_count": 20,
   "id": "67dc68d6",
   "metadata": {},
   "outputs": [
    {
     "data": {
      "text/plain": [
       "35"
      ]
     },
     "execution_count": 20,
     "metadata": {},
     "output_type": "execute_result"
    }
   ],
   "source": [
    "zhou.zhou_yuan(5,30)"
   ]
  },
  {
   "cell_type": "code",
   "execution_count": 4,
   "id": "125947bf",
   "metadata": {},
   "outputs": [
    {
     "name": "stdout",
     "output_type": "stream",
     "text": [
      "加数1：5\n",
      "加数2：2\n",
      "52\n",
      "字符串未转换为数字！\n"
     ]
    }
   ],
   "source": [
    "try:\n",
    "    num1 = input('加数1：')\n",
    "    num2 = input('加数2：')\n",
    "    print (num1 + num2)\n",
    "    num3 = num1 / num2\n",
    "except TypeError:\n",
    "    print('字符串未转换为数字！')"
   ]
  },
  {
   "cell_type": "code",
   "execution_count": 5,
   "id": "182d7846",
   "metadata": {},
   "outputs": [
    {
     "name": "stdout",
     "output_type": "stream",
     "text": [
      "Writing text.txt\n"
     ]
    }
   ],
   "source": [
    "%%writefile text.txt\n",
    "jin tian de\n",
    "tian qi heng\n",
    "bu cuo"
   ]
  },
  {
   "cell_type": "code",
   "execution_count": 7,
   "id": "717a58e0",
   "metadata": {
    "tags": []
   },
   "outputs": [],
   "source": [
    "file = open('./text.txt')"
   ]
  },
  {
   "cell_type": "code",
   "execution_count": 8,
   "id": "6be8ed4c",
   "metadata": {
    "tags": []
   },
   "outputs": [
    {
     "data": {
      "text/plain": [
       "<_io.TextIOWrapper name='./text.txt' mode='r' encoding='cp936'>"
      ]
     },
     "execution_count": 8,
     "metadata": {},
     "output_type": "execute_result"
    }
   ],
   "source": [
    "file"
   ]
  },
  {
   "cell_type": "code",
   "execution_count": 4,
   "id": "e3dadaa3",
   "metadata": {
    "tags": []
   },
   "outputs": [],
   "source": [
    "file_read = file.read()"
   ]
  },
  {
   "cell_type": "code",
   "execution_count": 6,
   "id": "5d4087d9",
   "metadata": {
    "tags": []
   },
   "outputs": [
    {
     "name": "stdout",
     "output_type": "stream",
     "text": [
      "jin tian de\n",
      "tian qi heng\n",
      "bu cuo\n",
      "\n"
     ]
    }
   ],
   "source": [
    "print(file_read)"
   ]
  },
  {
   "cell_type": "code",
   "execution_count": 9,
   "id": "7ce4db77",
   "metadata": {
    "tags": []
   },
   "outputs": [
    {
     "name": "stdout",
     "output_type": "stream",
     "text": [
      "['jin tian de\\n', 'tian qi heng\\n', 'bu cuo\\n']\n"
     ]
    }
   ],
   "source": [
    "lines = file.readlines()\n",
    "print(lines)"
   ]
  },
  {
   "cell_type": "code",
   "execution_count": 10,
   "id": "d528dbfd",
   "metadata": {
    "tags": []
   },
   "outputs": [],
   "source": [
    "file.close()"
   ]
  },
  {
   "cell_type": "code",
   "execution_count": 14,
   "id": "2bb68dbe-e749-4210-9901-7e7f48365e01",
   "metadata": {
    "tags": []
   },
   "outputs": [
    {
     "data": {
      "text/plain": [
       "<function TextIOWrapper.close()>"
      ]
     },
     "execution_count": 14,
     "metadata": {},
     "output_type": "execute_result"
    }
   ],
   "source": [
    "txtw = open('zhou_write.txt', 'w')\n",
    "txtw.write('123\\n')\n",
    "txtw.write('456')\n",
    "txtw.flush()\n",
    "txtw.close"
   ]
  },
  {
   "cell_type": "markdown",
   "metadata": {},
   "source": [
    "## 使用with打开文件，自动关闭"
   ]
  },
  {
   "cell_type": "code",
   "execution_count": 3,
   "id": "2803a475-9f73-4fbd-ac03-6b777df61606",
   "metadata": {
    "tags": []
   },
   "outputs": [
    {
     "name": "stdout",
     "output_type": "stream",
     "text": [
      "['jin tian de\\n', 'tian qi heng\\n', 'bu cuo\\n']\n"
     ]
    }
   ],
   "source": [
    "with open('text.txt') as f:\n",
    "    print(f.readlines())"
   ]
  },
  {
   "cell_type": "code",
   "execution_count": 10,
   "metadata": {},
   "outputs": [
    {
     "name": "stdout",
     "output_type": "stream",
     "text": [
      "name = zhou, age = 18\n",
      "number= 100\n"
     ]
    }
   ],
   "source": [
    "class person:\n",
    "    \n",
    "    number = 100\n",
    "    \n",
    "    def __init__(self, name, age):\n",
    "        self.name = name\n",
    "        self.age = age\n",
    "    \n",
    "    def displayMoney(self):\n",
    "        print('number=', self.number)\n",
    "        \n",
    "    def display(self):\n",
    "        print('name = {}, age = {}'.format(self.name, self.age))\n",
    "        \n",
    "zhou = person(\"zhou\", 18)\n",
    "zhou.display()\n",
    "zhou.displayMoney()"
   ]
  },
  {
   "cell_type": "code",
   "execution_count": 12,
   "metadata": {},
   "outputs": [],
   "source": [
    "del zhou.name"
   ]
  },
  {
   "cell_type": "code",
   "execution_count": 13,
   "metadata": {},
   "outputs": [
    {
     "ename": "AttributeError",
     "evalue": "'person' object has no attribute 'name'",
     "output_type": "error",
     "traceback": [
      "\u001b[1;31m---------------------------------------------------------------------------\u001b[0m",
      "\u001b[1;31mAttributeError\u001b[0m                            Traceback (most recent call last)",
      "\u001b[1;32md:\\DataConqueror\\PythonBase\\pythonBase.ipynb 单元格 20\u001b[0m line \u001b[0;36m1\n\u001b[1;32m----> <a href='vscode-notebook-cell:/d%3A/DataConqueror/PythonBase/pythonBase.ipynb#X32sZmlsZQ%3D%3D?line=0'>1</a>\u001b[0m zhou\u001b[39m.\u001b[39mname\n",
      "\u001b[1;31mAttributeError\u001b[0m: 'person' object has no attribute 'name'"
     ]
    }
   ],
   "source": [
    "zhou.name"
   ]
  },
  {
   "cell_type": "code",
   "execution_count": 14,
   "metadata": {},
   "outputs": [],
   "source": [
    "zhou.name = 'yuan'"
   ]
  },
  {
   "cell_type": "code",
   "execution_count": 15,
   "metadata": {},
   "outputs": [
    {
     "data": {
      "text/plain": [
       "'yuan'"
      ]
     },
     "execution_count": 15,
     "metadata": {},
     "output_type": "execute_result"
    }
   ],
   "source": [
    "zhou.name"
   ]
  },
  {
   "cell_type": "code",
   "execution_count": 18,
   "metadata": {},
   "outputs": [
    {
     "name": "stdout",
     "output_type": "stream",
     "text": [
      "name = yuan, age = 189\n"
     ]
    }
   ],
   "source": [
    "class yuan(person):\n",
    "    def __init__(self, name, age):\n",
    "        super().__init__(name, age)\n",
    "        \n",
    "y = yuan('yuan', 189)\n",
    "y.display()"
   ]
  },
  {
   "cell_type": "code",
   "execution_count": 19,
   "metadata": {},
   "outputs": [],
   "source": [
    "import time"
   ]
  },
  {
   "cell_type": "code",
   "execution_count": 20,
   "metadata": {},
   "outputs": [
    {
     "data": {
      "text/plain": [
       "1700210661.565535"
      ]
     },
     "execution_count": 20,
     "metadata": {},
     "output_type": "execute_result"
    }
   ],
   "source": [
    "time.time()"
   ]
  },
  {
   "cell_type": "code",
   "execution_count": 21,
   "metadata": {},
   "outputs": [
    {
     "data": {
      "text/plain": [
       "time.struct_time(tm_year=2023, tm_mon=11, tm_mday=17, tm_hour=16, tm_min=44, tm_sec=47, tm_wday=4, tm_yday=321, tm_isdst=0)"
      ]
     },
     "execution_count": 21,
     "metadata": {},
     "output_type": "execute_result"
    }
   ],
   "source": [
    "time.localtime()"
   ]
  },
  {
   "cell_type": "code",
   "execution_count": 22,
   "metadata": {},
   "outputs": [
    {
     "data": {
      "text/plain": [
       "16"
      ]
     },
     "execution_count": 22,
     "metadata": {},
     "output_type": "execute_result"
    }
   ],
   "source": [
    "time.localtime().tm_hour"
   ]
  },
  {
   "cell_type": "code",
   "execution_count": 23,
   "metadata": {},
   "outputs": [
    {
     "data": {
      "text/plain": [
       "'Fri Nov 17 16:45:39 2023'"
      ]
     },
     "execution_count": 23,
     "metadata": {},
     "output_type": "execute_result"
    }
   ],
   "source": [
    "time.asctime()"
   ]
  },
  {
   "cell_type": "code",
   "execution_count": null,
   "metadata": {},
   "outputs": [],
   "source": [
    "time.asctime("
   ]
  }
 ],
 "metadata": {
  "kernelspec": {
   "display_name": "Python 3 (ipykernel)",
   "language": "python",
   "name": "python3"
  },
  "language_info": {
   "codemirror_mode": {
    "name": "ipython",
    "version": 3
   },
   "file_extension": ".py",
   "mimetype": "text/x-python",
   "name": "python",
   "nbconvert_exporter": "python",
   "pygments_lexer": "ipython3",
   "version": "3.11.5"
  }
 },
 "nbformat": 4,
 "nbformat_minor": 5
}
